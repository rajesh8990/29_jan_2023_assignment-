{
 "cells": [
  {
   "cell_type": "code",
   "execution_count": null,
   "id": "63f23b85-73d9-4175-ac5b-6eb19ddb0722",
   "metadata": {},
   "outputs": [],
   "source": [
    "\"\"\"Q.1 Who developed Python programming language ?\n",
    "Ans- Python was Created By Guido Van Rossum in 1991\n",
    "\"\"\""
   ]
  },
  {
   "cell_type": "code",
   "execution_count": null,
   "id": "c8244230-3450-428c-943f-d19514486e35",
   "metadata": {},
   "outputs": [],
   "source": [
    "\"\"\"Q.2 Which type of progrmming does python Support ?\n",
    "Ans- python is a versatail Programming Language that Support a wide . range of application types\n",
    "\"\"\""
   ]
  },
  {
   "cell_type": "code",
   "execution_count": null,
   "id": "fd9fd881-3d25-4b7f-b31a-1afc3692e840",
   "metadata": {},
   "outputs": [],
   "source": [
    "\"\"\"Q.3. Is pytthon case Sensitive when dealing with indentifiers ?\n",
    "Ans- Yes, python is case when dealing with indentifiers\n",
    "\"\"\""
   ]
  },
  {
   "cell_type": "code",
   "execution_count": null,
   "id": "00cc42c5-aa1c-40d8-812d-6b98f66c6f82",
   "metadata": {},
   "outputs": [],
   "source": [
    "\"\"\"Q.4 What is the correct extension of the python file.?\n",
    "Ans- The correct extension for python Source Code files is \".py\"\n",
    "\"\"\""
   ]
  },
  {
   "cell_type": "code",
   "execution_count": null,
   "id": "04ab3d56-f60c-4ce8-a3d9-21b5584294b8",
   "metadata": {},
   "outputs": [],
   "source": [
    "\"\"\"Q.5 Is python code compiled or interpreted ?\n",
    "Ans- Python is generally an interpreted Language\n",
    "\"\"\""
   ]
  },
  {
   "cell_type": "code",
   "execution_count": null,
   "id": "87e64527-a77b-4e98-8b4c-ca5ae9532f3d",
   "metadata": {},
   "outputs": [],
   "source": [
    "\"\"\"Q.6 Name a few blocks of Code used to define in Python Language ?\n",
    "Ans- function Definition block , Conditional statement Block , Loop Block\n",
    "\"\"\""
   ]
  },
  {
   "cell_type": "code",
   "execution_count": null,
   "id": "6f032924-7e6c-45a6-8c49-312038373f1a",
   "metadata": {},
   "outputs": [],
   "source": [
    "\"\"\"Q.7 State a character used to give Single-line Comments in Python ?\n",
    "Ans- In Python , You can use the '#' Symbol to Create Single-line Comments.\n",
    "\"\"\""
   ]
  },
  {
   "cell_type": "code",
   "execution_count": null,
   "id": "aae6af78-0195-423f-9967-8bf248daeb1f",
   "metadata": {},
   "outputs": [],
   "source": [
    "\"\"\"Q.8 Mention function which Can help us to find the version of Python that we Currently working on ?\n",
    "Ans- To Find version of Python that you Correctly   working on , you Can use 'sys' module in python.\n",
    "     To check the Python version, we can use the 'sys.version' attribute. \n",
    "\"\"\""
   ]
  },
  {
   "cell_type": "code",
   "execution_count": null,
   "id": "ddbc28d2-03ff-4bde-a121-beb64b77a16c",
   "metadata": {},
   "outputs": [],
   "source": [
    "\"\"\"Q.9 Python Support the Creation of anonymous function or runtime using , a Construst Called.\n",
    "Ans- Python supports the creation of anonymous functions using a construct called \"lambda\" functions. \n",
    "     Lambda functions are also known as anonymous functions or lambda expressions\n",
    "\"\"\""
   ]
  },
  {
   "cell_type": "code",
   "execution_count": null,
   "id": "1c964c9a-d7fa-418d-ac34-ba471a3bfb45",
   "metadata": {},
   "outputs": [],
   "source": [
    "\"\"\"Q.10 What does pip stand for python ?\n",
    "Ans- pip stand for python \"pip Instans packages\"\n",
    "\"\"\""
   ]
  },
  {
   "cell_type": "code",
   "execution_count": null,
   "id": "43e003eb-b75e-4fc0-9d3b-5c184e4def09",
   "metadata": {},
   "outputs": [],
   "source": [
    "\"\"\"Q.11 Mention a few built-in-function in python ?\n",
    "Ans-   some commonly used built-in functions in Python.\n",
    "      print(),len(),input(),range().\n",
    "\"\"\""
   ]
  },
  {
   "cell_type": "code",
   "execution_count": null,
   "id": "fdfea0ac-dcd3-4892-982d-3f479834ce28",
   "metadata": {},
   "outputs": [],
   "source": [
    "\"\"\"Q.12 What is the maximum possible length of an Identifier in python. ?\n",
    "Ans-   NO maximum limit  of an Indentifier.\n",
    "\"\"\""
   ]
  },
  {
   "cell_type": "code",
   "execution_count": null,
   "id": "7054f847-12cb-456d-908a-b247154fd424",
   "metadata": {},
   "outputs": [],
   "source": [
    "\"\"\"Q.13 What are the benefits of using python?\n",
    "Ans-   Python is a  versatile programming language, \n",
    "       Some Common uses case of python web development, data. analysis, game,\n",
    "\"\"\""
   ]
  },
  {
   "cell_type": "code",
   "execution_count": null,
   "id": "2e66ea1a-4974-4821-b1e0-9de8b6bd86c6",
   "metadata": {},
   "outputs": [],
   "source": [
    "\"\"\"Q.14 How is memory managed in python?\n",
    "Ans-   Memory management in Python is primarily managed by the Python memory manager, \n",
    "       Python uses a combination of techniques to handle memory management efficiently:\n",
    "\"\"\"       "
   ]
  },
  {
   "cell_type": "code",
   "execution_count": null,
   "id": "13410346-5f81-4bcd-9aba-d7226997a7ab",
   "metadata": {},
   "outputs": [],
   "source": [
    "\"\"\"Q.15 How to install python on windows and set path variables?\n",
    "Ans-   To install Python on a Windows system and set the necessary path variables, \n",
    "     We can follow these steps:\n",
    "     Download Python: \n",
    "     Visit the official Python website at https://www.python.org/downloads/windows/.\n",
    "     You'll see a list of available Python versions. Choose the latest version for your system \n",
    "     (e.g., Python 3.10.1).\n",
    "     Run the Installer:\n",
    "     Locate the downloaded installer file (e.g., python-3.10.1-amd64.exe) and double-click it to run the installer.\n",
    "     Install Python:\n",
    "    Click the \"Install Now\" button to start the installation process.   \n",
    "    \n",
    "\"\"\"    "
   ]
  },
  {
   "cell_type": "code",
   "execution_count": null,
   "id": "d2f2c221-e1ee-4a39-bc37-4b91a890c099",
   "metadata": {},
   "outputs": [],
   "source": [
    "\"\"\"Q.16 Is identation required in python.?\n",
    "Ans-  Yes, indentation is required in Python \n",
    "      Indentation is used to group statements together within control structures \n",
    "      like loops and conditional statements\n",
    "\"\"\"    "
   ]
  }
 ],
 "metadata": {
  "kernelspec": {
   "display_name": "Python 3 (ipykernel)",
   "language": "python",
   "name": "python3"
  },
  "language_info": {
   "codemirror_mode": {
    "name": "ipython",
    "version": 3
   },
   "file_extension": ".py",
   "mimetype": "text/x-python",
   "name": "python",
   "nbconvert_exporter": "python",
   "pygments_lexer": "ipython3",
   "version": "3.10.8"
  }
 },
 "nbformat": 4,
 "nbformat_minor": 5
}
